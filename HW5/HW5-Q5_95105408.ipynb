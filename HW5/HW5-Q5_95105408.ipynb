{
 "cells": [
  {
   "cell_type": "markdown",
   "metadata": {},
   "source": [
    "<div style=\"direction:rtl;line-height:200%;\">\n",
    "<font face=\"XB Zar\" size=5>\n",
    "<center>\n",
    "به نام خداوند بخشنده‌ی مهربان\n",
    "<br><br><br>\n",
    "تمرین پنجم - سوال پنجم\n",
    "<br><br>\n",
    "</center>\n",
    "\n",
    "</font>\n",
    "    \n",
    "<font face=\"XB Zar\" size=3>\n",
    "    \n",
    "* در این تمرین آزادید سلول‌های جدید کد یا فایل‌های جدید `ipynb.`  یا `py.` را ایجاد کنید و کد موجود در آنها را مورد فراخوانی و استفاده قرار دهید. اما دقت کنید کد نهایی شما که باعث تولید پاسخ‌ها می‌شود بایستی از طریق فراخوانی‌های موجود در همین دفترچه اجرا شود.\n",
    "* سوالات خودتان را از طریق وبسایت کوئرا بپرسید.\n",
    "\n",
    "</font>\n",
    "</div>"
   ]
  },
  {
   "cell_type": "markdown",
   "metadata": {},
   "source": [
    "<hr><hr><hr>\n",
    "<div style=\"direction:rtl;line-height:300%;\">\n",
    "<font face=\"XB Zar\" size=6>\n",
    "<font style=\"color:blue;\"><strong>پرسش ۱</strong> </font>\n",
    "</font>\n",
    "</div>"
   ]
  },
  {
   "cell_type": "markdown",
   "metadata": {},
   "source": [
    "<div style=\"direction:rtl;line-height:200%;\">\n",
    "<font style=\"direction:rtl;\" face=\"XB Zar\" size=3>\n",
    "در این مساله می‌خواهیم استفاده از تکنیک double buffering  برای سرعت بخشیدن به الگوریتم external merge sort را بررسی کنیم. با این الگوریتم در اسلاید‌های درس آشنا شده‌اید.\n",
    "<br>\n",
    "گرچه این الگوریتم و هزینه‌ی آن را به صورت صریح و دقیق در اسلاید‌ها مدل نکرده‌ایم، می‌دانیم دسترسی به داده‌های نوشته شده در حافظه با locality بالا سریعتر از دسترسی تصادفی است. یعنی دسترسی به page های متوالی حافظه از طریق sequential IO سریعتر از random IO است.\n",
    "<br>\n",
    "به بیانی دیگر خواند ۸ صفحه‌ی متوالی از فایل A و سپس خواند ۸ صفحه‌ی متوالی از فایل B بسیار سریعتر از خواند یکی در میان صفحات A و B است.\n",
    "<br>\n",
    "همچنین در تکنولوژی‌های حافظه‌ی امروزی خواندن اطلاعات از حافظه معمولا سریعتر از نوشتن آن است.\n",
    "<br><br>\n",
    "در این مساله مدلی برای این تفاوت‌ها ارايه می‌کنیم.\n",
    "\n",
    "* فرض می‌کنیم هر حداکثر ۸ \n",
    "<font style=\"color:red;\"><strong>خواندن</strong> </font>\n",
    "    متوالی از حافظه معادل تنها یک خواندن هزینه دارد و هزینه‌ی آن ۱ واحد IO است.\n",
    "* فرض می‌کنیم هزینه‌ی هر نوشتن دو برابر هزینه‌ی هر خواندن باشد.\n",
    "* نوشتن‌های متوالی مانند خواندن بدون هزینه نیستند. هزینه‌ی $N$ نوشتن متوالی همیشه $2N$ است.\n",
    "<br><br>\n",
    "نکات مهم دیگر:\n",
    "* برای این مساله الگوریتم merge sort را همان الگوریتم ارائه شده در اسلاید‌ها با optimization های اولیه در نظر بگیرید اما از Repacking Optimization استفاده نکنید.\n",
    "* فرض کنید یکی از page های buffer برای خروجی استفاده می‌شود و رزرو شده است. به عنوان مثال در این حالت یک merge $B$ طرفه نیازمند $B + 1$ page از buffer خواهد بود.\n",
    "* در محاسبات خود همواره اعداد به‌دست آمده را رند کنید و از هزینه‌های به دست آمده <font style=\"color:red;\"><strong>سقف</strong> </font> بگیرید.\n",
    "* همواره بدترین حالت ممکن (worst case scenario) را در محاسبات لحاظ کنید. به عنوان مثال اگر دو خواندن می‌توانند در حالت‌هایی متوالی باشند اما این توالی کلیت ندارد این دو خواندن را random IO در نظر بگیرید.\n",
    "</font>    \n",
    "</div>"
   ]
  },
  {
   "cell_type": "markdown",
   "metadata": {},
   "source": [
    "<hr><hr>\n",
    "<div style=\"direction:rtl;line-height:200%;\">\n",
    "<font style=\"direction:rtl;\" face=\"XB Zar\" size=3>\n",
    "الف\n",
    "<br>\n",
    "الگوریتم external merge sort را به گونه‌ای تغییر می‌دهیم که با هدف استفاده از خواندن‌های بدون هزینه‌ی متوالی، تمام عملیات خواند به صورت \n",
    "<font style=\"color:red;\"><strong>خواندن ۸ صفحه‌ی متوالی از حافظه</strong></font>\n",
    "انجام شود.\n",
    "<br><br>\n",
    "هزینه‌ی اجرای الگوریتم external merge sort را با $B + 1 = 40$ صفحه‌ی buffer و فایل ورودی نامرتب ۳۲۰ صفحه‌ای محاسبه کنید.\n",
    "<br>\n",
    "مراحل و منطق کارتان را با استفاده از comment های پایتون در سلول جواب شرح دهید.\n",
    "</font>    \n",
    "</div>"
   ]
  },
  {
   "cell_type": "markdown",
   "metadata": {},
   "source": [
    "<hr>\n",
    "<div style=\"direction:rtl;line-height:200%;\">\n",
    "<font style=\"direction:rtl;\" face=\"XB Zar\" size=3>\n",
    "الف - ۱\n",
    "<br>\n",
    "هزینه‌ی دقیق split کردن و مرتب سازی فایل‌های حاصل را بر حسب واحد IO محاسبه کنید.\n",
    "<br>\n",
    "طبق حالت استاندارد، اجرا‌های با اندازه‌ی $B + 1$ مورد نظر هستند.\n",
    "</font>\n",
    "</div>"
   ]
  },
  {
   "cell_type": "code",
   "execution_count": 1,
   "metadata": {},
   "outputs": [],
   "source": [
    "# We must read every page once and write it out after sorting. \n",
    "# Number of runs = (number of pages) / (run size = B + 1) = 320 / 40 = 8 number of runs\n",
    "# to calculate the IO cost of reading we use the IO cost of reading the sequential chunks in a run.\n",
    "# IO cost for each run when we read -> [(40 pages in each run)/(8 pages are read in chunk)] * (1 IO cost per each chunk read) = 5 IO cost per run\n",
    "# to calculate the IO cost of writing we have to write each page and each have a IO cost of 2.\n",
    "# IO cost for each run when we write -> (40 writes in each run) * (2 IO cost per each page write) = 80 IO cost per run\n",
    "# so the total IO cost (all runs) -> (IO cost for reads per run + IO cost for writes) * Number of runs\n",
    "# IO cost = (5 + 80) * 8 = 680\n",
    "\n",
    "io_split_sort = 680"
   ]
  },
  {
   "cell_type": "markdown",
   "metadata": {},
   "source": [
    "<hr>\n",
    "<div style=\"direction:rtl;line-height:200%;\">\n",
    "<font style=\"direction:rtl;\" face=\"XB Zar\" size=3>\n",
    "الف - ۲\n",
    "<br>\n",
    "بعد از آنکه فایل ورودی قسمت قسمت شده و هر قسمت به صورت جداگانه مرتب شد، می‌توانیم با استفاده از فرایند merge هر $n$ اجرا را با هم ادغام کنیم. \n",
    "<br>\n",
    "با فرض آنکه عملیات read همواره به صورت ۸ صفحه‌ای انجام می‌شود،\n",
    "بزرگترین $n$ ممکن چیست؟\n",
    "(به این عدد درجه‌ی merge می‌گویند).\n",
    "</font>\n",
    "</div>"
   ]
  },
  {
   "cell_type": "code",
   "execution_count": 2,
   "metadata": {},
   "outputs": [],
   "source": [
    "# We can merge B runs at once (as maximum) but reads are always in 8 page chunks.\n",
    "# So the maximum n = floor(B/8) = floor((40-1)/8) = 4\n",
    "\n",
    "merge_arity = 4"
   ]
  },
  {
   "cell_type": "markdown",
   "metadata": {},
   "source": [
    "<hr>\n",
    "<div style=\"direction:rtl;line-height:200%;\">\n",
    "<font style=\"direction:rtl;\" face=\"XB Zar\" size=3>\n",
    "الف - ۳\n",
    "<br>\n",
    "عملیات merge چندبار (چند pass) بایستی انجام شود؟\n",
    "</font>\n",
    "</div>"
   ]
  },
  {
   "cell_type": "code",
   "execution_count": 3,
   "metadata": {},
   "outputs": [],
   "source": [
    "# If we want to merge N pages there will be ceiling[log_{base=merge_arity} {N/(B+1)}] passes of merging necessary.\n",
    "# So the result is = ceiling(log_{base=4}{320/40}) = 2\n",
    "\n",
    "merge_passes = 2"
   ]
  },
  {
   "cell_type": "markdown",
   "metadata": {},
   "source": [
    "<hr>\n",
    "<div style=\"direction:rtl;line-height:200%;\">\n",
    "<font style=\"direction:rtl;\" face=\"XB Zar\" size=3>\n",
    "الف - ۴\n",
    "<br>\n",
    "هزینه‌ی اولین اجرای (pass) فرایند merge بر حسب واحد IO چقدر است؟ \n",
    "دقت کنید که عملیات merge با بالاترین درجه ممکن بایستی استفاده شود.\n",
    "</font>\n",
    "</div>"
   ]
  },
  {
   "cell_type": "code",
   "execution_count": 4,
   "metadata": {},
   "outputs": [],
   "source": [
    "# We need to read all pages once and write them all once in one merge pass.\n",
    "# As before we know that all reads are done in 8 page chunks.\n",
    "# IO cost for reads = (number of pages) / (pages in chunk) * IO cost for reading a chunk = 320 / 8 * 1 = 40\n",
    "# IO cost for writes = (number of pages) * IO cost for writing a page = 320 * 2 = 640\n",
    "# total IO cost of a single merge pass = 40 + 640 = 680\n",
    "\n",
    "merge_pass_1 = 680"
   ]
  },
  {
   "cell_type": "markdown",
   "metadata": {},
   "source": [
    "<hr>\n",
    "<div style=\"direction:rtl;line-height:200%;\">\n",
    "<font style=\"direction:rtl;\" face=\"XB Zar\" size=3>\n",
    "الف - ۵\n",
    "<br>\n",
    "هزینه‌ی کلی اجرای الگوریتم external merge sort بر حسب واحد IO چقدر است؟\n",
    "(در صورتی که pass های دیگری از merge باقی مانده است بایستی هزینه‌ی آنها را نیز در محاسبات خود در نظر بگیرید.)\n",
    "</font>\n",
    "</div>"
   ]
  },
  {
   "cell_type": "code",
   "execution_count": 5,
   "metadata": {},
   "outputs": [],
   "source": [
    "# Total IO cost = split & sort IO cost + number of passes * IO cost of one merge pass\n",
    "# 680 + 680 * 2 = 2040\n",
    "\n",
    "total_io = 2040"
   ]
  },
  {
   "cell_type": "markdown",
   "metadata": {},
   "source": [
    "<hr><hr>\n",
    "<div style=\"direction:rtl;line-height:200%;\">\n",
    "<font style=\"direction:rtl;\" face=\"XB Zar\" size=3>\n",
    "ب\n",
    "<br>\n",
    "در این بخش پاسخ‌ها و استدلالی را که در بخش قبل مورد استفاده قرار دادیم، تعمیم خواهیم داد. تابعی به زبان python می‌نویسیم که تخمینی از هزینه‌ی IO اجرای الگوریتم external merge sort را با استفاده از یک بافر $B+1$ صفحه‌ای برای یک فایل نامرتب $N$ صفحه‌ای محاسبه کند. در اینجا عملیات خواندن را به جای ۸ صفحه‌ی متوالی در $P$ صفحه‌ی متوالی انجام خواهیم داد.\n",
    "<br>\n",
    "دقت کنید نتیجه‌ی تابع ما تنها به این علت تخمینی از هزینه‌ی واقعی است که در آن هزینه‌ی هر pass عملیات merge را با دیگر pass ها برابر در نظر می‌گیریم حال آنکه در عمل این هزینه‌ها می‌توانند با یکدیگر تفاوت داشته باشند. بقیه‌ی محاسبات طبق مدلی که ارئه کردیم بایستی دقیق باشند.\n",
    "<br>\n",
    "این تابع را (external_merge_sort_cost(B, N, P می‌نامیم.\n",
    "نتیجه‌ی آن را به صورت ترکیب هزینه‌ی خواندن و نوشتن داده‌ها در هر pass و تعداد pass های مورد نیاز محاسبه خواهیم کرد.\n",
    "<br>\n",
    "دقت کنید که با وجود آنکه نتیجه‌ی این تابع تخمینی از هزینه‌ی واقعی است، شما بایستی به دقت و هر جا که لازم است در محاسبات خود از نتایج کف یا سقف بگیرید که نتایج اعداد صحیح درستی باشند.\n",
    "</font>    \n",
    "</div>"
   ]
  },
  {
   "cell_type": "markdown",
   "metadata": {},
   "source": [
    "<hr>\n",
    "<div style=\"direction:rtl;line-height:200%;\">\n",
    "<font style=\"direction:rtl;\" face=\"XB Zar\" size=3>\n",
    "ب - ۱\n",
    "<br>\n",
    "تابع پایتونی بنویسید که هزینه‌ی \n",
    "<font style=\"color:red;\"><strong>دقیق</strong></font>\n",
    "تمام عملیات اولیه‌ی الگوریتم را بر حسب واحد IO محاسبه کند.\n",
    "</font>\n",
    "</div>"
   ]
  },
  {
   "cell_type": "code",
   "execution_count": 6,
   "metadata": {},
   "outputs": [],
   "source": [
    "def cost_initial_runs(B, N, P):\n",
    "    write = 2 * N\n",
    "    read = N/P\n",
    "    return write + read"
   ]
  },
  {
   "cell_type": "markdown",
   "metadata": {},
   "source": [
    "<hr>\n",
    "<div style=\"direction:rtl;line-height:200%;\">\n",
    "<font style=\"direction:rtl;\" face=\"XB Zar\" size=3>\n",
    "ب - ۲\n",
    "<br>\n",
    "تابع پایتونی بنویسید که هزینه‌ی تخمینی \n",
    "خواندن ورودی و نوشتن خروجی را در یک pass از عملیات merge محاسبه کند.\n",
    "<br>\n",
    "دقت کنید این هزینه از آنجایی یک تخمین است که فایل ورودی در ابتدای الگوریتم به بخش‌هایی تقسیم شده که لزوما یک اندازه نیستند و بالتبع کار کردن با آنها نیز هزینه‌هایی با تفاوت اندک خواهد داشت.\n",
    "</font>\n",
    "</div>"
   ]
  },
  {
   "cell_type": "code",
   "execution_count": 7,
   "metadata": {},
   "outputs": [],
   "source": [
    "def cost_per_pass(B, N, P):\n",
    "    write_all = 2 * N\n",
    "    read_all = N/P\n",
    "    return write_all + read_all"
   ]
  },
  {
   "cell_type": "markdown",
   "metadata": {},
   "source": [
    "<hr>\n",
    "<div style=\"direction:rtl;line-height:200%;\">\n",
    "<font style=\"direction:rtl;\" face=\"XB Zar\" size=3>\n",
    "ب - ۳\n",
    "<br>\n",
    "تابع پایتونی بنویسید که تعداد \n",
    "<font style=\"color:red;\"><strong>دقیق</strong></font>\n",
    "دفعات مورد نیاز اجرای الگوریتم merge را محاسبه کند.\n",
    "</font>\n",
    "</div>"
   ]
  },
  {
   "cell_type": "code",
   "execution_count": 8,
   "metadata": {},
   "outputs": [],
   "source": [
    "import math\n",
    "def num_passes(B, N, P):\n",
    "    # As we saw before -> ceiling[log_{base=merge_arity} {N/(B+1)}]\n",
    "    # Here we have B/P for the base but just like the part(الف) we have to get the floor of B/P\n",
    "    return math.ceil(math.log(N/(B+1), math.floor(float(B)/float(P))))"
   ]
  },
  {
   "cell_type": "markdown",
   "metadata": {},
   "source": [
    "<div style=\"direction:rtl;line-height:200%;\">\n",
    "<font style=\"direction:rtl;\" face=\"XB Zar\" size=3>\n",
    "در نهایت هزینه‌ی کلی به این صورت محاسبه می‌شود: \n",
    "</font>\n",
    "</div>"
   ]
  },
  {
   "cell_type": "code",
   "execution_count": 9,
   "metadata": {},
   "outputs": [],
   "source": [
    "def external_merge_sort_cost(B, N, P):\n",
    "    return cost_initial_runs(B,N,P) + cost_per_pass(B,N,P)*num_passes(B,N,P)"
   ]
  },
  {
   "cell_type": "markdown",
   "metadata": {},
   "source": [
    "<hr><hr>\n",
    "<div style=\"direction:rtl;line-height:200%;\">\n",
    "<font style=\"direction:rtl;\" face=\"XB Zar\" size=3>\n",
    "پ\n",
    "<br>\n",
    "عدد $P$ بهینه و زوج مرتب‌های مقادیر ممکن $P$ و هزینه‌ی IO متناظر با آنها را با استفاده از تابع هزینه‌ی کلی که در قسمت قبل نوشتید پیدا کنید.\n",
    "<br>\n",
    "فرض کنید که \n",
    "    $B + 1 = 100$ و $N = 900$.\n",
    "</font>    \n",
    "</div>"
   ]
  },
  {
   "cell_type": "code",
   "execution_count": 21,
   "metadata": {},
   "outputs": [
    {
     "name": "stdout",
     "output_type": "stream",
     "text": [
      "The optimal P = 11\n"
     ]
    }
   ],
   "source": [
    "# Save the optimal value here\n",
    "\n",
    "P = 0 # WE CAN CALCULATE THIS ONLY AFTER TRYING FOR ALL P_VALUES SO THE REAL OPTIMAL P WILL BE SAVED IN THE \n",
    "# LAST LINE OF THIS PART CODE.\n",
    "\n",
    "B = 100 - 1\n",
    "N = 900\n",
    "\n",
    "# Save a list of tuples of (P, io_cost) here, for all feasible P's\n",
    "p_values = [i for i in range(1, B//2) ]\n",
    "points = [(p_val, external_merge_sort_cost(B, N, p_val)) for p_val in p_values]\n",
    "\n",
    "# FIND THE OPTIMAL P:\n",
    "min_cost = points[0][1]\n",
    "optimal_p = points[0][0]\n",
    "for p_val, IO_cost in points:\n",
    "    if IO_cost < min_cost:\n",
    "        min_cost = IO_cost\n",
    "        optimal_p = p_val\n",
    "print \"The optimal P =\", optimal_p\n",
    "\n",
    "P = optimal_p"
   ]
  },
  {
   "cell_type": "markdown",
   "metadata": {},
   "source": [
    "<div style=\"direction:rtl;line-height:200%;\">\n",
    "<font style=\"direction:rtl;\" face=\"XB Zar\" size=3>\n",
    "در اینجا قطعه کد راهنمایی برای استفاده از کتابخانه‌ی `matplotlib` برای تبدیل نقاط به دست آمده به نمودار در اختیار شما قرار گرفته. می‌توانید از این کد یا هر نرم‌افزار دیگری که دوست دارید برای تولید نمودار نهایی استفاده کنید. نتیجه‌ی حاصل را به همراه گزارش خود ارسال کنید.\n",
    "</font>\n",
    "</div>"
   ]
  },
  {
   "cell_type": "code",
   "execution_count": 22,
   "metadata": {},
   "outputs": [
    {
     "data": {
      "image/png": "[encoded data removed]",
      "text/plain": [
       "<Figure size 432x288 with 1 Axes>"
      ]
     },
     "metadata": {
      "needs_background": "light"
     },
     "output_type": "display_data"
    }
   ],
   "source": [
    "# Shell code for plotting in matplotlib\n",
    "%matplotlib inline\n",
    "import matplotlib.pyplot as plt\n",
    "\n",
    "# Plot\n",
    "plt.plot(*zip(*points))\n",
    "plt.ylabel('IO Cost')\n",
    "plt.xlabel('The Chunk Size (P)')\n",
    "plt.show()"
   ]
  },
  {
   "cell_type": "markdown",
   "metadata": {},
   "source": [
    "<hr><hr><hr>\n",
    "<div style=\"direction:rtl;line-height:300%;\">\n",
    "<font face=\"XB Zar\" size=6>\n",
    "<font style=\"color:blue;\"><strong>پرسش ۲</strong> </font>\n",
    "</font>\n",
    "</div>"
   ]
  },
  {
   "cell_type": "markdown",
   "metadata": {},
   "source": [
    "<div style=\"direction:rtl;line-height:200%;\">\n",
    "<font style=\"direction:rtl;\" face=\"XB Zar\" size=3>\n",
    "در این مساله می‌خواهیم هزینه‌ی الگوریتم‌های Join متفاوت را برای ادغام رابطه‌های $R(A,B)$، $S(B,C)$ و $T(C,D)$\n",
    "دو به دو با یکدیگر مقایسه کنیم و بهترین روش Join را در چند حالت مختلف پیدا کنیم.\n",
    "<br><br>\n",
    "در هر یک از سناریو‌های مطرح شده می‌خواهیم مقدار تمام یا برخی از این متغیر‌ها را پیدا کنیم:\n",
    "    \n",
    "* `P_R`: تعداد صفحات $R$\n",
    "* `P_S`: تعداد صفحات $S$\n",
    "* `P_RS`: تعداد صفحات خروجی (و ورودی) $RS$\n",
    "* `P_T`: تعداد صفحات $T$\n",
    "* `P_RST`: تعداد صفحات خروجی (و ورودی) $RS$\n",
    "* `B`: تعداد صفحات Buffer\n",
    "* `IO_cost_join1`: هزینه‌ی کلی اولین Join بر حسب واحد IO\n",
    "* `IO_cost_join2`: هزینه‌ی کلی دومین Join بر حسب واحد IO\n",
    "<br><br>\n",
    "نکات مهم:\n",
    "* خروجی اولین Join همواره به عنوان یکی از ورودی‌های دومین Join داده می‌شود.\n",
    "* در هیچ‌یک از الگوریتم‌های Join از Optimization های مطرح شده در Lecture ها استفاده نکنید و الگوریتم پایه را در نظر بگیرید.\n",
    "* فرض کنید یکی از صفحات Buffer برای خروجی رزرو شده است.\n",
    "* در این سوال از الگوریتم‌های(\n",
    "Sort-Merge Join (SMJ)،\n",
    "    Hash Join (HJ و\n",
    "    (Block Nested Loop Join (BNLJ استفاده خواهیم‌کرد. \n",
    "</font>    \n",
    "</div>"
   ]
  },
  {
   "cell_type": "markdown",
   "metadata": {},
   "source": [
    "<hr><hr>\n",
    "<div style=\"direction:rtl;line-height:200%;\">\n",
    "<font style=\"direction:rtl;\" face=\"XB Zar\" size=3>\n",
    "الف\n",
    "<br><br><br>\n",
    "با فرض:\n",
    "    \n",
    "* `P_R` = 20\n",
    "* `P_S` = 200\n",
    "* `P_T` = 2000\n",
    "* `P_RS` = 100\n",
    "* `P_ST` = 1000\n",
    "* `P_RST` = 500\n",
    "* `B` = 32\n",
    "</font>    \n",
    "</div>"
   ]
  },
  {
   "cell_type": "markdown",
   "metadata": {},
   "source": [
    "<div style=\"direction:rtl;line-height:200%;\">\n",
    "<font style=\"direction:rtl;\" face=\"XB Zar\" size=3>\n",
    "هزینه‌ی IO کلی هر یک از query plan های زیر را محاسبه کنید\n",
    "</font>    \n",
    "</div>\n",
    "\n",
    "* IO_Cost_HJ_1 where only hash join is used, $join1 = R(a,b),S(b,c)$ and $join2 = join1(a,b,c),T(c,d)$\n",
    "* IO_Cost_HJ_2 where only hash join is used, $join1 = T(c,d),S(b,c)$ and $join2 = join1(b,c,d),R(a,b)$\n",
    "* IO_Cost_SMJ_1 where only sort merge join is used, $join1 = R(a,b),S(b,c)$ and $join2 = join1(a,b,c),T(c,d)$\n",
    "* IO_Cost_SMJ_2 where only sort merge join is used, $join1 = T(c,d),S(b,c)$ and $join2 = join1(b,c,d),R(a,b)$\n",
    "* IO_Cost_BNLJ_1 where only block nested loop join is used, $join1 = R(a,b),S(b,c)$ and $join2 = join1(a,b,c),T(c,d)$\n",
    "* IO_Cost_BNLJ_2 where only block nested loop merge join is used, $join1 = T(c,d),S(b,c)$ and $join2 = join1(b,c,d),R(a,b)$\n",
    "\n",
    "<div style=\"direction:rtl;line-height:100%;\">\n",
    "<font style=\"direction:rtl;\" face=\"XB Zar\" size=3>\n",
    "در مورد performance هر query plan یک یا دو جمله در قالب comment های پایتون توضیح دهید. \n",
    "</font>    \n",
    "</div>\n"
   ]
  },
  {
   "cell_type": "code",
   "execution_count": null,
   "metadata": {
    "collapsed": true
   },
   "outputs": [],
   "source": [
    "IO_Cost_HJ_1 = 7120\n",
    "# No partitioning for the first join since R can be fit \n",
    "# join1 -> P_R + P_S + P_RS = 20 + 200 + 100 = 320\n",
    "# join2 -> 3(P_RS + P_T) + P_RST = 3(100 + 2000) + 500 = 6800\n",
    "# join1 + join2 = 7120\n",
    "\n",
    "IO_Cost_HJ_2 = 9120\n",
    "# join1 -> 3(P_T + P_S) + P_ST = 3(2000 + 200) + 1000 = 7600\n",
    "# join2 -> P_ST + P_R + P_RST = 1000 + 20 + 500 = 1520\n",
    "# join1 + join2 = 9120\n",
    "\n",
    "IO_Cost_SMJ_1 = 16160\n",
    "# join1 -> 1 pass to sort R = 2 * (P_R) = 2 * 20 = 40, 2 passes to sort S = 2 * (2 * P_S) = 4 * 200 = 800, 1 pass to merge = P_R + P_S = 100 + 2000 = 2100\n",
    "# OUT = 100\n",
    "# join1 = 40 + 800 + 220 + 100 = 1160\n",
    "# join2 -> 2 pass to sort RS = 2 * (2 * P_RS) = 4 * 100 = 400, 3 pass to sort T = 3 * (2 * P_T) = 6 * 2000 = 12000, 1 pass to merge = P_RS + P_T = 100 + 2000 = 2100\n",
    "# OUT = 500\n",
    "# join2 = 400 + 12000 + 2100 + 500 = 15000\n",
    "# join1 + join2 = 1160 + 15000 = 16160\n",
    "\n",
    "IO_Cost_SMJ_2 = 23560\n",
    "# join1 -> 3 passes to sort T = 3 * (2 * P_T) = 6 * 2000 = 12000, 2 passes to sort S = 2 * (2 * P_S) = 4 * 200 = 800, 1 pass to merge = 2000 + 200 = 2200\n",
    "# OUT = 1000\n",
    "# join1 = 12000 + 800 + 2200 + 1000 = 16000\n",
    "# join2 -> 3 passes to sort TS = 3 * (2 * P_RS) = 6 * 1000 = 6000, 1 pass to sort R = 2 * P_R = 2 * 20 = 40, 1 pass to merge = 1000 + 20 = 1020\n",
    "# OUT = 500\n",
    "# join2 = 6000 + 40 + 1020 + 500 = 7560\n",
    "# join1 + join2 = 16000 + 7060 = 23560\n",
    "\n",
    "IO_Cost_BNLJ_1 = 8920\n",
    "# join1 -> P_R + ceiling(P_R/(B-1)) * P_S + OUT(=P_RS) = 20 + ceiling(20/30) * 200 + 100 = 320\n",
    "# join2 -> P_RS + ceiling(P_RS/(B-1)) * P_T + OUT(=P_RST) = 100 + ceiling(100/30) * 2000 + 500 = 8600\n",
    "# join1 + join2 = 8920\n",
    "\n",
    "IO_Cost_BNLJ_2 = 16720\n",
    "# join1 -> P_S + ceiling(P_S/(B-1)) * P_T + OUT(=P_ST) = 200 + ceiling(200/30) * 2000 + 1000 = 15200\n",
    "# join2 -> P_R + ceiling(P_R/(B-1)) * P_ST + OUT(=P_RST) = 20 + ceiling(20/30) * 1000 + 500 = 1520\n",
    "# join1 + join2 = 16720"
   ]
  },
  {
   "cell_type": "markdown",
   "metadata": {},
   "source": [
    "<hr><hr>\n",
    "<div style=\"direction:rtl;line-height:200%;\">\n",
    "<font style=\"direction:rtl;\" face=\"XB Zar\" size=3>\n",
    "ب\n",
    "<br><br><br>\n",
    "query plan \n",
    "ای را در نظر بگیرید که در آن\n",
    "$join1 = R(a,b),S(b,c)$\n",
    "و \n",
    "$join2 = join1(a,b,c),T(c,d)$\n",
    ".\n",
    "مقداردهی از متغیر‌ها را بیابید که استفاده از HJ برای $join1$ و SMJ برای $join2$ هزینه‌ی کمتری از استفاده‌ی SMJ برای $join1$ و استفاده از HJ برای $join2$ داشته باشد.\n",
    "<br>\n",
    "اندازه‌ی خروجی‌هایی که برای P_RS و P_RT تعیین می‌کنید بایستی غیر صفر و مقدار درستی باشد\n",
    "(حداکثر اندازه‌ی خروجی برای $join1$ برابر P_R*P_S است).\n",
    "</font>    \n",
    "</div>"
   ]
  },
  {
   "cell_type": "code",
   "execution_count": null,
   "metadata": {
    "collapsed": true
   },
   "outputs": [],
   "source": [
    "# From the last part we can see the smaller P_R will result in cheaper HJ for first join.\n",
    "# But this will also lead to cheaper SMJ too. So we need to make SMJ expensive by increasing the P_S\n",
    "\n",
    "P_R = 20 \n",
    "P_S = 20000\n",
    "P_T = 200\n",
    "P_RS = 100\n",
    "P_RST = 50\n",
    "B = 40\n",
    "\n",
    "HJ_IO_Cost_join1 = 20120\n",
    "# join1 -> P_R + P_S + P_RS = 20 + 20000 + 100 = 20120\n",
    "\n",
    "SMJ_IO_Cost_join2 = 950\n",
    "# join2 -> 1 pass to sort RS = 2 * P_RS = 2 * 100 = 200, 1 pass to sort T = 2 * P_T = 2 * 200 = 400, 1 pass to merge = P_RS + P_T = 100 + 200 = 300\n",
    "# OUT = 50\n",
    "# join2 = 200 + 400 + 300 + 500 = 950\n",
    "\n",
    "SMJ_IO_Cost_join1 = 140060\n",
    "# join1 -> 1 pass to sort R = 2 * (P_R) = 2 * 20 = 40, ceiling(log_base(B)(P_S/B) + 1 = 3 passes to sort S = 3 * (2 * P_S) = 6 * 20000 = 120000, 1 pass to merge = P_R + P_S = 20 + 20000 = 20020\n",
    "# OUT = 100\n",
    "# join1 = 40 + 120000 + 20020 + 100 = 140060\n",
    "\n",
    "HJ_IO_Cost_join2 = 950\n",
    "# join2 -> 3(P_RS + P_T) + P_RST = 3(100 + 200) + 50 = 950"
   ]
  },
  {
   "cell_type": "markdown",
   "metadata": {},
   "source": [
    "<hr><hr><hr>\n",
    "<div style=\"line-height:300%;\">\n",
    "<font face=\"XB Zar\" size=5>\n",
    "موفّق و سلامت باشید\n",
    "</font>\n",
    "</div>"
   ]
  }
 ],
 "metadata": {
  "anaconda-cloud": {},
  "kernelspec": {
   "display_name": "Python 2",
   "language": "python",
   "name": "python2"
  },
  "language_info": {
   "codemirror_mode": {
    "name": "ipython",
    "version": 2
   },
   "file_extension": ".py",
   "mimetype": "text/x-python",
   "name": "python",
   "nbconvert_exporter": "python",
   "pygments_lexer": "ipython2",
   "version": "2.7.14"
  }
 },
 "nbformat": 4,
 "nbformat_minor": 2
}
